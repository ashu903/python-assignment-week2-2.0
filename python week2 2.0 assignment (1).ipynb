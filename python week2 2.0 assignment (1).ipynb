{
 "cells": [
  {
   "cell_type": "code",
   "execution_count": 2,
   "id": "7bdd0860-dd17-4732-b450-994341eecccd",
   "metadata": {},
   "outputs": [
    {
     "name": "stdout",
     "output_type": "stream",
     "text": [
      "Hello, World!\n",
      "Hello, World!\n"
     ]
    }
   ],
   "source": [
    "# Q1. How do you comment code in Python? What are the different types of comments?\n",
    "\n",
    "# Ans>> There are two main types of comments in Python:\n",
    "# Single-line comments: These comments begin with a # and continue until the end of the line.\n",
    "# Single-line comments are used for brief explanations or annotations.\n",
    "# example\n",
    "# This is a single-line comment\n",
    "print(\"Hello, World!\")  # This is also a single-line comment\n",
    "\n",
    "# multiline comment:\n",
    "'''\n",
    "This is a multi-line comment.\n",
    "It spans across multiple lines.\n",
    "This is not true comment syntax but is often used to achieve the same effect.\n",
    "'''\n",
    "print(\"Hello, World!\")\n"
   ]
  },
  {
   "cell_type": "code",
   "execution_count": 6,
   "id": "a4485e03-87ab-44f8-8ef2-d85ccf69c66f",
   "metadata": {},
   "outputs": [
    {
     "name": "stdout",
     "output_type": "stream",
     "text": [
      "5\n",
      "1 2 3\n"
     ]
    }
   ],
   "source": [
    "# Q2. What are variables in Python? How do you declare and assign values to variables?\n",
    "\n",
    "# Ans>> In Python, variables are used to store data values. Unlike some other programming languages, Python doesn't require explicit declaration of \n",
    "# of variables.. When you assign a value to a variable, Python automatically creates the variable for you.\n",
    "\n",
    "# Variable declaration and assignment\n",
    "x = 5\n",
    "print(x)\n",
    "\n",
    "# Assigning values to multiple variables\n",
    "a, b, c = 1, 2, 3\n",
    "\n",
    "print(a,b,c)\n",
    "\n",
    "\n"
   ]
  },
  {
   "cell_type": "code",
   "execution_count": 9,
   "id": "efe7c758-c2a8-4a15-95dc-582aafc2aecf",
   "metadata": {},
   "outputs": [
    {
     "name": "stdout",
     "output_type": "stream",
     "text": [
      "15.5\n",
      "<class 'int'>\n",
      "<class 'float'>\n",
      "<class 'str'>\n"
     ]
    }
   ],
   "source": [
    "# Q3. How do you convert one data type to another in Python?\n",
    "\n",
    "# Ans>> In Python, you can convert one data type to another using type conversion functions.\n",
    "# Implicit Type Conversion (Type Coercion):Python automatically converts one data type to another when required. mainly in numerical operations\n",
    "x = 10  # integer\n",
    "y = 5.5  # float\n",
    "z = x + y  # x is converted to float implicitly\n",
    "print(z)  \n",
    "\n",
    "# Explicit Type Conversion (Type Casting): you can explicitly convert one data type to another using predefined functions or constructors. \n",
    "# 1.int(): Converts a value to an integer. 2.str(): Converts a value to a string. 3.dict(): Creates a dictionary.\n",
    "# 4.float(): Converts a value to a floating-point number. 5.list(): Converts a sequence to a list.  6.tuple(): Converts a sequence to a tuple\n",
    "\n",
    "# Convert to integer\n",
    "x = int(5.5)\n",
    "print(type(x))\n",
    "# Convert to float\n",
    "y = float(\"10.5\")  \n",
    "print(type(y))\n",
    "# Convert to string\n",
    "z = str(100)  \n",
    "print(type(z))"
   ]
  },
  {
   "cell_type": "code",
   "execution_count": 11,
   "id": "2128c0c2-7133-44b2-91a4-b6302be5e82a",
   "metadata": {},
   "outputs": [
    {
     "name": "stdout",
     "output_type": "stream",
     "text": [
      "Hello, World!\n"
     ]
    }
   ],
   "source": [
    "# Q4.How do you write and execute a Python script from the command line?\n",
    "# Ans>> To write and execute a Python script from the command line, you'll need a text editor to write the \n",
    "# Python code and a terminal or command prompt to execute it. Here's a step-by-step guide:\n",
    "# 1.Open a Text Editor 2.Write Your Python Code 3.Save the File 4.Open a Command Line Interface 5. Navigate to the Directory 6.Execute the Script\n",
    "# hello.py\n",
    "print(\"Hello, World!\")\n",
    "\n",
    "# cd path/to/your/directory\n",
    "# python hello.py\n",
    "\n"
   ]
  },
  {
   "cell_type": "code",
   "execution_count": 12,
   "id": "be177715-1b93-4947-a1fb-6b0bfdd17545",
   "metadata": {},
   "outputs": [
    {
     "name": "stdout",
     "output_type": "stream",
     "text": [
      "[2, 3]\n"
     ]
    }
   ],
   "source": [
    "# Q5.Given a list my_list = [1, 2, 3, 4, 5], write the code to slice the list and obtain the sub-list [2, 3].\n",
    "# Ans>>\n",
    "my_list = [1, 2, 3, 4, 5]\n",
    "# Slice the list to obtain the sub-list [2, 3]\n",
    "sub_list = my_list[1:3]\n",
    "print(sub_list)\n"
   ]
  },
  {
   "cell_type": "code",
   "execution_count": 13,
   "id": "7f21df9d-3d66-469a-96f2-f3ceab8fa445",
   "metadata": {},
   "outputs": [
    {
     "name": "stdout",
     "output_type": "stream",
     "text": [
      "(3+4j)\n",
      "(5.5-2j)\n"
     ]
    }
   ],
   "source": [
    "# Q6.What is a complex number in mathematics, and how is it represented in Python?\n",
    "# Ans>> \n",
    "# In mathematics that can be expressed in the form (a + bi) where a and b are real numbers and i is the imaginary.\n",
    "# Creating complex numbers\n",
    "z1 = 3 + 4j   # Real part: 3, Imaginary part: 4\n",
    "z2 = 5.5 - 2j # Real part: 5.5, Imaginary part: -2\n",
    "print(z1) \n",
    "print(z2)  \n"
   ]
  },
  {
   "cell_type": "code",
   "execution_count": 14,
   "id": "3ba87fb9-046c-4636-bc67-27ffe72f17d2",
   "metadata": {},
   "outputs": [
    {
     "name": "stdout",
     "output_type": "stream",
     "text": [
      "25\n"
     ]
    }
   ],
   "source": [
    "# Q7.What is the correct way to declare a variable named age and assign the value 25 to it?\n",
    "# Ans>> The correct way to declare a variable named age and assign the value 25 to it in Python is to simply use the variable name.\n",
    "# followed by the assignment operator (=) and the value to be assigned. Here's how you would do it.\n",
    "age = 25\n",
    "print(age)\n"
   ]
  },
  {
   "cell_type": "code",
   "execution_count": 16,
   "id": "e42295c0-222e-4bfd-aab4-763c4a4be450",
   "metadata": {},
   "outputs": [
    {
     "name": "stdout",
     "output_type": "stream",
     "text": [
      "9.99\n",
      "<class 'float'>\n"
     ]
    }
   ],
   "source": [
    "# Q8.Declare a variable named price and assign the value 9.99 to it. What data type does this variable belong to?\n",
    "# Ans>>To declare a variable named price and assign the value 9.99 to it in Python, you can use the,\n",
    "\n",
    "price = 9.99\n",
    "print(price)\n",
    "print(type(price))\n"
   ]
  },
  {
   "cell_type": "code",
   "execution_count": 1,
   "id": "0988cb69-7a75-4931-83f2-05a38aa3ff43",
   "metadata": {},
   "outputs": [
    {
     "name": "stdout",
     "output_type": "stream",
     "text": [
      "Your Full Name\n"
     ]
    }
   ],
   "source": [
    "# 9Q.Create a variable named name and assign your full name to it as a string. How would you print the value of this variable?\n",
    "# Ans>> To create a variable named name and assign your full name to it as a string, you can use the,\n",
    "name = \"Your Full Name\"\n",
    "print(name)\n"
   ]
  },
  {
   "cell_type": "code",
   "execution_count": 2,
   "id": "7956fa55-4f06-44a7-9ddb-243b58ec7784",
   "metadata": {},
   "outputs": [
    {
     "name": "stdout",
     "output_type": "stream",
     "text": [
      "World\n"
     ]
    }
   ],
   "source": [
    "# Q10.Given the string \"Hello, World!\", extract the substring \"World\".\n",
    "# Ans>>\n",
    "s = \"Hello, World!\"\n",
    "# Extracting the substring \"World\"\n",
    "substring = s[7:12]\n",
    "print(substring)  \n"
   ]
  },
  {
   "cell_type": "code",
   "execution_count": 5,
   "id": "52798778-7182-460e-a37c-e5fbfa7930f7",
   "metadata": {},
   "outputs": [
    {
     "name": "stdout",
     "output_type": "stream",
     "text": [
      "True\n",
      "False\n"
     ]
    }
   ],
   "source": [
    "# Q11.Create a variable named \"is_student\" and assign it a boolean value indicating whether you are currently a student or not.\n",
    "# Ans>>\n",
    "is_student = True  \n",
    "print(is_student)\n",
    "is_student = False  \n",
    "print(is_student)"
   ]
  },
  {
   "cell_type": "code",
   "execution_count": null,
   "id": "f2e1616a-d7e4-420c-9b60-8a6464d8b303",
   "metadata": {},
   "outputs": [],
   "source": []
  }
 ],
 "metadata": {
  "kernelspec": {
   "display_name": "Python 3 (ipykernel)",
   "language": "python",
   "name": "python3"
  },
  "language_info": {
   "codemirror_mode": {
    "name": "ipython",
    "version": 3
   },
   "file_extension": ".py",
   "mimetype": "text/x-python",
   "name": "python",
   "nbconvert_exporter": "python",
   "pygments_lexer": "ipython3",
   "version": "3.10.8"
  }
 },
 "nbformat": 4,
 "nbformat_minor": 5
}
